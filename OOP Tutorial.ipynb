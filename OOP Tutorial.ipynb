{
 "cells": [
  {
   "cell_type": "code",
   "execution_count": 4,
   "id": "several-phone",
   "metadata": {},
   "outputs": [],
   "source": [
    "#this library is used for the drawing portion\n",
    "import turtle"
   ]
  },
  {
   "cell_type": "code",
   "execution_count": 19,
   "id": "abroad-donor",
   "metadata": {},
   "outputs": [],
   "source": [
    "class Polygon:\n",
    "    def __init__(self, sides, name):\n",
    "        self.sides = sides\n",
    "        self.name = name\n",
    "    \n",
    "    def draw(self):\n",
    "        for i in range(self.sides):\n",
    "            turtle.forward(100)\n",
    "            turtle.right(90)\n",
    "        turtle.done()\n",
    "        \n",
    "square = Polygon(4,\"Square\")\n",
    "pentagon = Polygon(5,\"Pentagon\")"
   ]
  },
  {
   "cell_type": "code",
   "execution_count": 2,
   "id": "reverse-north",
   "metadata": {},
   "outputs": [
    {
     "name": "stdout",
     "output_type": "stream",
     "text": [
      "4\n",
      "Square\n"
     ]
    }
   ],
   "source": [
    "print(square.sides)\n",
    "print(square.name)"
   ]
  },
  {
   "cell_type": "code",
   "execution_count": 3,
   "id": "composite-dealer",
   "metadata": {},
   "outputs": [
    {
     "name": "stdout",
     "output_type": "stream",
     "text": [
      "5\n",
      "Pentagon\n"
     ]
    }
   ],
   "source": [
    "print(pentagon.sides)\n",
    "print(pentagon.name)"
   ]
  },
  {
   "cell_type": "code",
   "execution_count": 9,
   "id": "norman-nicholas",
   "metadata": {},
   "outputs": [],
   "source": [
    "#opens a new window with a square that starts drawing from the upper left corner\n",
    "square.draw()"
   ]
  },
  {
   "cell_type": "code",
   "execution_count": 24,
   "id": "advisory-liability",
   "metadata": {},
   "outputs": [],
   "source": [
    "#To draw any polygon just use general formula (n-2)x180\n",
    "class Polygon:\n",
    "    def __init__(self, sides, name):\n",
    "        self.sides = sides\n",
    "        self.name = name\n",
    "        self.interior_angles = (self.sides-2)*180\n",
    "        self.angle = self.interior_angles/self.sides\n",
    "    \n",
    "    def draw(self):\n",
    "        for i in range(self.sides):\n",
    "            turtle.forward(100)\n",
    "            turtle.right(180-self.angle)\n",
    "        turtle.done()"
   ]
  },
  {
   "cell_type": "code",
   "execution_count": 27,
   "id": "excellent-vehicle",
   "metadata": {},
   "outputs": [
    {
     "name": "stdout",
     "output_type": "stream",
     "text": [
      "4\n",
      "Square\n",
      "360\n",
      "90.0\n"
     ]
    }
   ],
   "source": [
    "square = Polygon(4,\"Square\")\n",
    "print(square.sides)\n",
    "print(square.name)\n",
    "print(square.interior_angles)\n",
    "print(square.angle)"
   ]
  },
  {
   "cell_type": "code",
   "execution_count": 28,
   "id": "continued-project",
   "metadata": {},
   "outputs": [],
   "source": [
    "square.draw()"
   ]
  },
  {
   "cell_type": "code",
   "execution_count": 32,
   "id": "atmospheric-theme",
   "metadata": {},
   "outputs": [],
   "source": [
    "pentagon = Polygon(5,\"Pentagon\")\n",
    "pentagon.draw()\n",
    "#draws a polygon with the 3 points facing downwards"
   ]
  },
  {
   "cell_type": "code",
   "execution_count": 39,
   "id": "received-point",
   "metadata": {},
   "outputs": [],
   "source": [
    "hexagon = Polygon(6,\"Hexagon\")\n",
    "hexagon.draw()"
   ]
  },
  {
   "cell_type": "code",
   "execution_count": 78,
   "id": "english-evening",
   "metadata": {},
   "outputs": [],
   "source": [
    "#You can also define default arguments i.e:\n",
    "class Polygon:\n",
    "    def __init__(self, sides, name, size=100, color=\"black\", line_thickness=7):\n",
    "        self.sides = sides\n",
    "        self.name = name\n",
    "        self.size = size\n",
    "        self.color = color\n",
    "        self.line_thickness = line_thickness\n",
    "        self.interior_angles = (self.sides-2)*180\n",
    "        self.angle = self.interior_angles/self.sides\n",
    "    \n",
    "    def draw(self):\n",
    "        turtle.color(self.color)\n",
    "        turtle.pensize(self.line_thickness)\n",
    "        for i in range(self.sides):\n",
    "            turtle.forward(self.size)\n",
    "            turtle.right(180-self.angle)\n",
    "        turtle.done()"
   ]
  },
  {
   "cell_type": "code",
   "execution_count": 80,
   "id": "everyday-director",
   "metadata": {},
   "outputs": [],
   "source": [
    "hexagon = Polygon(6,\"Hexagon\", color=\"blue\")\n",
    "hexagon.draw()"
   ]
  },
  {
   "cell_type": "code",
   "execution_count": 117,
   "id": "uniform-times",
   "metadata": {},
   "outputs": [],
   "source": [
    "#inheritance & subclasses:\n",
    "class Polygon:\n",
    "    def __init__(self, sides, name, size=100, color=\"black\", line_thickness=3):\n",
    "        self.sides = sides\n",
    "        self.name = name\n",
    "        self.size = size\n",
    "        self.color = color\n",
    "        self.line_thickness = line_thickness\n",
    "        self.interior_angles = (self.sides-2)*180\n",
    "        self.angle = self.interior_angles/self.sides\n",
    "    \n",
    "    def draw(self):\n",
    "        turtle.color(self.color)\n",
    "        turtle.pensize(self.line_thickness)\n",
    "        for i in range(self.sides):\n",
    "            turtle.forward(self.size)\n",
    "            turtle.right(180-self.angle)\n",
    "            turtle.done()\n",
    "\n",
    "#this allows to reuse code that is already written without getting redundant (easier to fix)\n",
    "class Square(Polygon):\n",
    "    def __init__(self, size=100, color=\"black\", line_thickness=3):\n",
    "        super().__init__(4, \"Square\", size, color, line_thickness)"
   ]
  },
  {
   "cell_type": "code",
   "execution_count": 102,
   "id": "clear-charity",
   "metadata": {},
   "outputs": [
    {
     "name": "stdout",
     "output_type": "stream",
     "text": [
      "4\n",
      "90.0\n"
     ]
    }
   ],
   "source": [
    "square = Square()\n",
    "print(square.sides)\n",
    "print(square.angle)"
   ]
  },
  {
   "cell_type": "code",
   "execution_count": 103,
   "id": "thrown-attempt",
   "metadata": {},
   "outputs": [
    {
     "name": "stdout",
     "output_type": "stream",
     "text": [
      "None\n"
     ]
    }
   ],
   "source": [
    "print(square.draw())"
   ]
  },
  {
   "cell_type": "code",
   "execution_count": 123,
   "id": "raising-short",
   "metadata": {},
   "outputs": [],
   "source": [
    "#override on subclass for draw, example\n",
    "class Square(Polygon):\n",
    "    def __init__(self, size=100, color=\"black\", line_thickness=3):\n",
    "        super().__init__(4, \"Square\", size, color, line_thickness)\n",
    "        \n",
    "    def draw(self):\n",
    "        turtle.begin_fill()\n",
    "        super().draw()\n",
    "        turtle.end_fill()\n",
    "        turtle.done() #this line needs to be moved from the original class to avoid turtle syntax problem"
   ]
  },
  {
   "cell_type": "code",
   "execution_count": 125,
   "id": "liberal-advisory",
   "metadata": {},
   "outputs": [
    {
     "name": "stdout",
     "output_type": "stream",
     "text": [
      "None\n"
     ]
    }
   ],
   "source": [
    "square = Square(color=\"#123abc\", size=200)\n",
    "print(square.draw())"
   ]
  },
  {
   "cell_type": "code",
   "execution_count": 127,
   "id": "empirical-amsterdam",
   "metadata": {},
   "outputs": [],
   "source": [
    "#Plotting with classes\n",
    "class Point:\n",
    "    def __init__(self, x, y):\n",
    "        self.x = x\n",
    "        self.y = y"
   ]
  },
  {
   "cell_type": "code",
   "execution_count": 130,
   "id": "extreme-ridge",
   "metadata": {},
   "outputs": [
    {
     "name": "stdout",
     "output_type": "stream",
     "text": [
      "4\n"
     ]
    }
   ],
   "source": [
    "point1 = Point(4,5)\n",
    "print(point1.x)"
   ]
  },
  {
   "cell_type": "code",
   "execution_count": 131,
   "id": "federal-estimate",
   "metadata": {},
   "outputs": [],
   "source": [
    "import matplotlib.pyplot as plt"
   ]
  },
  {
   "cell_type": "code",
   "execution_count": 132,
   "id": "julian-mistake",
   "metadata": {},
   "outputs": [],
   "source": [
    "class Point:\n",
    "    def __init__(self, x, y):\n",
    "        self.x = x\n",
    "        self.y = y\n",
    "    \n",
    "    def plot(self):\n",
    "        plt.scatter(self.x, self.y)"
   ]
  },
  {
   "cell_type": "code",
   "execution_count": 135,
   "id": "floating-theta",
   "metadata": {},
   "outputs": [
    {
     "data": {
      "image/png": "[encoded data removed]",
      "text/plain": [
       "<Figure size 432x288 with 1 Axes>"
      ]
     },
     "metadata": {
      "needs_background": "light"
     },
     "output_type": "display_data"
    }
   ],
   "source": [
    "a = Point(3,4)\n",
    "a.plot()\n",
    "plt.show()"
   ]
  },
  {
   "cell_type": "code",
   "execution_count": 137,
   "id": "plastic-cherry",
   "metadata": {},
   "outputs": [],
   "source": [
    "#operator overloading(wihtout add function it can't add the points)\n",
    "class Point:\n",
    "    def __init__(self, x, y):\n",
    "        self.x = x\n",
    "        self.y = y\n",
    "        \n",
    "    def __add__(self, other):\n",
    "        x = self.x + other.x\n",
    "        y = self.y + other.y\n",
    "        return Point(x,y)\n",
    "    \n",
    "    def plot(self):\n",
    "        plt.scatter(self.x, self.y)   "
   ]
  },
  {
   "cell_type": "code",
   "execution_count": 138,
   "id": "pregnant-loading",
   "metadata": {},
   "outputs": [
    {
     "name": "stdout",
     "output_type": "stream",
     "text": [
      "3 3\n"
     ]
    }
   ],
   "source": [
    "a = Point(1,1)\n",
    "b = Point(2,2)\n",
    "c = a + b\n",
    "print(c.x, c.y)"
   ]
  },
  {
   "cell_type": "code",
   "execution_count": 144,
   "id": "appropriate-modem",
   "metadata": {},
   "outputs": [],
   "source": [
    "#to add a scalar to the vector we can simply:\n",
    "class Point:\n",
    "    def __init__(self, x, y):\n",
    "        self.x = x\n",
    "        self.y = y\n",
    "        \n",
    "    def __add__(self, other):\n",
    "        if isinstance(other, Point):\n",
    "            x = self.x + other.x\n",
    "            y = self.y + other.y\n",
    "            return Point(x,y)\n",
    "        else:\n",
    "            x = self.x + other\n",
    "            y = self.y + other\n",
    "            return Point(x,y)\n",
    "    \n",
    "    def plot(self):\n",
    "        plt.scatter(self.x, self.y)   "
   ]
  },
  {
   "cell_type": "code",
   "execution_count": 145,
   "id": "acting-pottery",
   "metadata": {},
   "outputs": [
    {
     "name": "stdout",
     "output_type": "stream",
     "text": [
      "5 7\n"
     ]
    }
   ],
   "source": [
    "a = Point(0,2)\n",
    "d = a + 5\n",
    "print(d.x, d.y)"
   ]
  },
  {
   "cell_type": "code",
   "execution_count": 146,
   "id": "russian-richmond",
   "metadata": {},
   "outputs": [
    {
     "name": "stdout",
     "output_type": "stream",
     "text": [
      "1 3\n"
     ]
    }
   ],
   "source": [
    "a = Point(0,2)\n",
    "d = a + Point(1,1)\n",
    "print(d.x, d.y)"
   ]
  }
 ],
 "metadata": {
  "kernelspec": {
   "display_name": "L1",
   "language": "python",
   "name": "l1"
  },
  "language_info": {
   "codemirror_mode": {
    "name": "ipython",
    "version": 3
   },
   "file_extension": ".py",
   "mimetype": "text/x-python",
   "name": "python",
   "nbconvert_exporter": "python",
   "pygments_lexer": "ipython3",
   "version": "3.9.1"
  }
 },
 "nbformat": 4,
 "nbformat_minor": 5
}
